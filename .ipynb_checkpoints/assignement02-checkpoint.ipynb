{
 "cells": [
  {
   "cell_type": "markdown",
   "metadata": {},
   "source": [
    "Exercice 1 :Écrire une fonction qui prend une chaîne de caractères en entrée et renvoie une fonction qui ajoute un préfixe spécifique à la chaîne d'origine. Par exemple, si la chaîne d'entrée est \"Hello\", la fonction renvoyée doit prendre une chaîne et renvoyer \"Hello \" + la chaîne."
   ]
  },
  {
   "cell_type": "markdown",
   "metadata": {},
   "source": [
    "remarque ma fn ne retourne rien raison pour laquelle j'ai mis Unit car c'est l'equivalent de void si je definis la fn\n",
    "comme etant String et je fais un println comme retour il m'enverra une exception car il attend que je retourne une chaine\n",
    "pas un println ou affichage\n",
    "\n",
    "def ajout_prefixe(ch:String): Unit = {\n",
    "     println(s\"Hello, $name\") ;\n",
    "}"
   ]
  },
  {
   "cell_type": "code",
   "execution_count": 26,
   "metadata": {},
   "outputs": [
    {
     "data": {
      "text/plain": [
       "\u001b[36majout_prefixe\u001b[39m: \u001b[32mString\u001b[39m => \u001b[32mString\u001b[39m => \u001b[32mString\u001b[39m = ammonite.$sess.cmd25$Helper$$Lambda$2826/2026958705@68beaf82"
      ]
     },
     "execution_count": 26,
     "metadata": {},
     "output_type": "execute_result"
    }
   ],
   "source": [
    "val ajout_prefixe = (ch:String) =>  (str: String) => s\"$ch  $str\";"
   ]
  },
  {
   "cell_type": "code",
   "execution_count": 27,
   "metadata": {},
   "outputs": [
    {
     "name": "stdout",
     "output_type": "stream",
     "text": [
      "yansane  mohamed\n"
     ]
    },
    {
     "data": {
      "text/plain": [
       "\u001b[36mp\u001b[39m: \u001b[32mString\u001b[39m => \u001b[32mString\u001b[39m = ammonite.$sess.cmd25$Helper$$Lambda$2831/1171823757@23d2ca2b"
      ]
     },
     "execution_count": 27,
     "metadata": {},
     "output_type": "execute_result"
    }
   ],
   "source": [
    "val p = ajout_prefixe(\"yansane\")\n",
    "println(p(\"mohamed\"))"
   ]
  },
  {
   "cell_type": "markdown",
   "metadata": {},
   "source": [
    "Écrire une fonction qui prend une liste d'entiers et renvoie une fonction qui prend un entier\n",
    "et renvoie vrai si l'entier est dans la liste et faux sinon. Utilisez une clôture\n",
    "(ou la fermeture) pour stocker la liste d'entiers."
   ]
  },
  {
   "cell_type": "code",
   "execution_count": 9,
   "metadata": {},
   "outputs": [
    {
     "data": {
      "text/plain": [
       "\u001b[36misInList\u001b[39m: \u001b[32mList\u001b[39m[\u001b[32mInt\u001b[39m] => \u001b[32mInt\u001b[39m => \u001b[32mBoolean\u001b[39m = ammonite.$sess.cmd8$Helper$$Lambda$2438/998248653@7ddf3dd"
      ]
     },
     "execution_count": 9,
     "metadata": {},
     "output_type": "execute_result"
    }
   ],
   "source": [
    "val isInList = (l : List[Int]) => (a:Int) => l.contains(a)"
   ]
  },
  {
   "cell_type": "code",
   "execution_count": 11,
   "metadata": {},
   "outputs": [
    {
     "name": "stdout",
     "output_type": "stream",
     "text": [
      "true\n",
      "false\n"
     ]
    },
    {
     "data": {
      "text/plain": [
       "\u001b[36mlst\u001b[39m: \u001b[32mList\u001b[39m[\u001b[32mInt\u001b[39m] = \u001b[33mList\u001b[39m(\u001b[32m1\u001b[39m, \u001b[32m2\u001b[39m, \u001b[32m3\u001b[39m, \u001b[32m4\u001b[39m, \u001b[32m5\u001b[39m)\r\n",
       "\u001b[36mverifie_is_in\u001b[39m: \u001b[32mInt\u001b[39m => \u001b[32mBoolean\u001b[39m = ammonite.$sess.cmd8$Helper$$Lambda$2444/1058182626@18116665"
      ]
     },
     "execution_count": 11,
     "metadata": {},
     "output_type": "execute_result"
    }
   ],
   "source": [
    "val lst = List(1, 2, 3, 4, 5)\n",
    "val verifie_is_in = isInList(myList)\n",
    "\n",
    "println(verifie_is_in(2)) \n",
    "println(verifie_is_in(8)) "
   ]
  },
  {
   "cell_type": "markdown",
   "metadata": {},
   "source": [
    "Écrire une fonction  qui prend une liste de chaînes et renvoie une fonction \n",
    "qui prend une chaîne et renvoie vrai si la chaîne est dans la liste et faux sinon. \n",
    "Utilisez une clôture pour stocker la liste de chaînes. Assurez vous que la fonction\n",
    "renvoyée est pure et qu'elle ne modifie pas la liste d'entrée."
   ]
  },
  {
   "cell_type": "code",
   "execution_count": 2,
   "metadata": {},
   "outputs": [
    {
     "data": {
      "text/plain": [
       "\u001b[36mis_in_lst\u001b[39m: \u001b[32mList\u001b[39m[\u001b[32mString\u001b[39m] => \u001b[32mString\u001b[39m => \u001b[32mBoolean\u001b[39m = ammonite.$sess.cmd1$Helper$$Lambda$2345/2102641681@523939c3"
      ]
     },
     "execution_count": 2,
     "metadata": {},
     "output_type": "execute_result"
    }
   ],
   "source": [
    "//Set n'est pas mutable\n",
    "val is_in_lst = (lst:List[String] ) => (ch:String) => lst.toSet.contains(ch)"
   ]
  },
  {
   "cell_type": "code",
   "execution_count": 3,
   "metadata": {},
   "outputs": [
    {
     "name": "stdout",
     "output_type": "stream",
     "text": [
      "true\n",
      "false\n"
     ]
    },
    {
     "data": {
      "text/plain": [
       "\u001b[36mtest\u001b[39m: \u001b[32mString\u001b[39m => \u001b[32mBoolean\u001b[39m = ammonite.$sess.cmd1$Helper$$Lambda$2367/445225153@7a82e872"
      ]
     },
     "execution_count": 3,
     "metadata": {},
     "output_type": "execute_result"
    }
   ],
   "source": [
    "val test = is_in_lst(List(\"b\",\"o\",\"n\"))\n",
    "println(test(\"b\"))\n",
    "println(test(\"a\"))"
   ]
  },
  {
   "cell_type": "code",
   "execution_count": null,
   "metadata": {},
   "outputs": [],
   "source": []
  }
 ],
 "metadata": {
  "kernelspec": {
   "display_name": "Scala",
   "language": "scala",
   "name": "scala"
  },
  "language_info": {
   "codemirror_mode": "text/x-scala",
   "file_extension": ".sc",
   "mimetype": "text/x-scala",
   "name": "scala",
   "nbconvert_exporter": "script",
   "version": "2.12.11"
  }
 },
 "nbformat": 4,
 "nbformat_minor": 4
}
